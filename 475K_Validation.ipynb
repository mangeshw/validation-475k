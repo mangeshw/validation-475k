{
 "cells": [
  {
   "cell_type": "markdown",
   "metadata": {},
   "source": [
    "# Validating 475K dataset"
   ]
  },
  {
   "cell_type": "code",
   "execution_count": 1,
   "metadata": {},
   "outputs": [],
   "source": [
    "import matplotlib.pyplot as plt\n",
    "from PIL import Image, ImageOps\n",
    "import os, glob\n",
    "from os import listdir\n",
    "from os.path import isfile, join\n",
    "import numpy as np\n",
    "import csv\n",
    "from sklearn.utils import shuffle\n",
    "\n",
    "import tensorflow as tf\n",
    "from tensorflow.keras.layers import Dense, Flatten, Conv2D\n",
    "from tensorflow.keras import Model\n",
    "from tensorflow.keras import datasets, layers, models"
   ]
  },
  {
   "cell_type": "code",
   "execution_count": 2,
   "metadata": {},
   "outputs": [],
   "source": [
    "PROJECT_ROOT_DIR = \".\"\n",
    "dir_path = os.path.join(PROJECT_ROOT_DIR, \"datasets\", 'printed_alphabets')\n",
    "os.chdir(dir_path)"
   ]
  },
  {
   "cell_type": "code",
   "execution_count": 3,
   "metadata": {},
   "outputs": [
    {
     "name": "stdout",
     "output_type": "stream",
     "text": [
      ".\\datasets\\printed_alphabets\n"
     ]
    }
   ],
   "source": [
    "print(dir_path)"
   ]
  },
  {
   "cell_type": "code",
   "execution_count": 5,
   "metadata": {},
   "outputs": [],
   "source": [
    "def plot_image(img, x=5, y=5):\n",
    "    plt.figure(figsize=(20,20))\n",
    "    plt.subplot(x,y,1)\n",
    "    plt.xticks([])\n",
    "    plt.yticks([])\n",
    "    plt.grid(False)\n",
    "    plt.imshow(img, cmap=plt.cm.binary)\n",
    "    plt.show()"
   ]
  },
  {
   "cell_type": "code",
   "execution_count": 6,
   "metadata": {},
   "outputs": [],
   "source": [
    "def plot_image_graph_from_array1(image_array, label):\n",
    "    plt.figure(figsize=(20,20))\n",
    "    plt.subplot(10,10,1)\n",
    "    plt.xticks([])\n",
    "    plt.yticks([])\n",
    "    plt.grid(False)\n",
    "    img = Image.fromarray(image_array.astype('uint8'))\n",
    "    plt.imshow(img, cmap=plt.cm.binary)\n",
    "    plt.xlabel(label)\n",
    "    plt.show()\n",
    "    img.close()"
   ]
  },
  {
   "cell_type": "code",
   "execution_count": 7,
   "metadata": {},
   "outputs": [],
   "source": [
    "base_folder = os.getcwd()\n",
    "dirs = os.listdir()"
   ]
  },
  {
   "cell_type": "markdown",
   "metadata": {},
   "source": [
    "### Load all images and create label dataset"
   ]
  },
  {
   "cell_type": "code",
   "execution_count": 8,
   "metadata": {
    "scrolled": true
   },
   "outputs": [
    {
     "name": "stdout",
     "output_type": "stream",
     "text": [
      "Folder: 1\n",
      "Folder: 10\n",
      "Folder: 11\n",
      "Folder: 12\n",
      "Folder: 13\n",
      "Folder: 14\n",
      "Folder: 15\n",
      "Folder: 16\n",
      "Folder: 17\n",
      "Folder: 18\n",
      "Folder: 19\n",
      "Folder: 2\n",
      "Folder: 20\n",
      "Folder: 21\n",
      "Folder: 22\n",
      "Folder: 23\n",
      "Folder: 24\n",
      "Folder: 25\n",
      "Folder: 26\n",
      "Folder: 27\n",
      "Folder: 28\n",
      "Folder: 29\n",
      "Folder: 3\n",
      "Folder: 30\n",
      "Folder: 31\n",
      "Folder: 32\n",
      "Folder: 33\n",
      "Folder: 34\n",
      "Folder: 35\n",
      "Folder: 36\n",
      "Folder: 37\n",
      "Folder: 38\n",
      "Folder: 39\n",
      "Folder: 4\n",
      "Folder: 40\n",
      "Folder: 41\n",
      "Folder: 42\n",
      "Folder: 43\n",
      "Folder: 44\n",
      "Folder: 45\n",
      "Folder: 46\n",
      "Folder: 47\n",
      "Folder: 48\n",
      "Folder: 49\n",
      "Folder: 5\n",
      "Folder: 50\n",
      "Folder: 51\n",
      "Folder: 52\n",
      "Folder: 53\n",
      "Folder: 54\n",
      "Folder: 55\n",
      "Folder: 56\n",
      "Folder: 57\n",
      "Folder: 58\n",
      "Folder: 59\n",
      "Folder: 6\n",
      "Folder: 60\n",
      "Folder: 61\n",
      "Folder: 62\n",
      "Folder: 63\n",
      "Folder: 64\n",
      "Folder: 65\n",
      "Folder: 66\n",
      "Folder: 67\n",
      "Folder: 68\n",
      "Folder: 69\n",
      "Folder: 7\n",
      "Folder: 70\n",
      "Folder: 71\n",
      "Folder: 72\n",
      "Folder: 73\n",
      "Folder: 74\n",
      "Folder: 75\n",
      "Folder: 76\n",
      "Folder: 77\n",
      "Folder: 78\n",
      "Folder: 79\n",
      "Folder: 8\n",
      "Folder: 80\n",
      "Folder: 81\n",
      "Folder: 82\n",
      "Folder: 83\n",
      "Folder: 84\n",
      "Folder: 85\n",
      "Folder: 86\n",
      "Folder: 87\n",
      "Folder: 88\n",
      "Folder: 89\n",
      "Folder: 9\n",
      "Folder: 90\n",
      "Folder: 91\n",
      "Folder: 92\n",
      "Folder: 93\n",
      "Folder: 94\n"
     ]
    }
   ],
   "source": [
    "count = len(dirs)\n",
    "folder_paths = []\n",
    "dir_files = []\n",
    "\n",
    "image_list = []\n",
    "format_list = []\n",
    "label_list = []\n",
    "im_array_list = []\n",
    "im_float_list = []\n",
    "\n",
    "for index in range(count):\n",
    "    if not dirs[index].isnumeric():\n",
    "        continue\n",
    "    print('Folder: ' + dirs[index])\n",
    "    path = os.path.join(base_folder, dirs[index])\n",
    "    if os.path.isdir(path):\n",
    "        folder_paths.append(path)\n",
    "        for filename in glob.glob(path + '/*.png'):\n",
    "            name_parts = filename.split('-')\n",
    "            file_format = name_parts[1].split('.')\n",
    "            if not ('n' == file_format[0] or 'b' == file_format[0]):\n",
    "                continue\n",
    "            else:\n",
    "                im = Image.open(filename).convert('1')\n",
    "                im2 = im.resize((50,50))\n",
    "                im_array = np.asarray(im2, dtype=\"int32\")\n",
    "                im_float_array = np.divide(im_array, 255.)\n",
    "                im_float_list.append(im_float_array)\n",
    "                format_list.append(file_format)\n",
    "                label_list.append(int(dirs[index]))\n",
    "                image_list.append(im_array)\n",
    "                im.close()\n",
    "    index += 1"
   ]
  },
  {
   "cell_type": "markdown",
   "metadata": {},
   "source": [
    "Check lenghts of folder_paths, image_list, format_list and label_list"
   ]
  },
  {
   "cell_type": "code",
   "execution_count": 9,
   "metadata": {
    "scrolled": true
   },
   "outputs": [
    {
     "name": "stdout",
     "output_type": "stream",
     "text": [
      "len: 94\n",
      "image_list: 76516\n",
      "format_list: 76516\n",
      "label_list: 76516\n",
      "im_float_list: 76516\n"
     ]
    }
   ],
   "source": [
    "print('len: ' + str(len(folder_paths)))\n",
    "print('image_list: ' + str(len(image_list)))\n",
    "print('format_list: ' + str(len(format_list)))\n",
    "print('label_list: ' + str(len(label_list)))\n",
    "print('im_float_list: ' + str(len(im_float_list)))"
   ]
  },
  {
   "cell_type": "markdown",
   "metadata": {},
   "source": [
    "Check few images with their labels"
   ]
  },
  {
   "cell_type": "code",
   "execution_count": 10,
   "metadata": {
    "scrolled": true
   },
   "outputs": [
    {
     "data": {
      "image/png": "[encoded data removed]",
      "text/plain": [
       "<matplotlib.figure.Figure at 0x223c50bff98>"
      ]
     },
     "metadata": {},
     "output_type": "display_data"
    },
    {
     "data": {
      "image/png": "[encoded data removed]",
      "text/plain": [
       "<matplotlib.figure.Figure at 0x22425c28c88>"
      ]
     },
     "metadata": {},
     "output_type": "display_data"
    },
    {
     "data": {
      "image/png": "[encoded data removed]",
      "text/plain": [
       "<matplotlib.figure.Figure at 0x22425c6c7b8>"
      ]
     },
     "metadata": {},
     "output_type": "display_data"
    },
    {
     "data": {
      "image/png": "[encoded data removed]",
      "text/plain": [
       "<matplotlib.figure.Figure at 0x2242648efd0>"
      ]
     },
     "metadata": {},
     "output_type": "display_data"
    },
    {
     "data": {
      "image/png": "[encoded data removed]",
      "text/plain": [
       "<matplotlib.figure.Figure at 0x22425ca7c88>"
      ]
     },
     "metadata": {},
     "output_type": "display_data"
    },
    {
     "data": {
      "image/png": "[encoded data removed]",
      "text/plain": [
       "<matplotlib.figure.Figure at 0x22425dfabe0>"
      ]
     },
     "metadata": {},
     "output_type": "display_data"
    },
    {
     "data": {
      "image/png": "[encoded data removed]",
      "text/plain": [
       "<matplotlib.figure.Figure at 0x22425e28278>"
      ]
     },
     "metadata": {},
     "output_type": "display_data"
    },
    {
     "data": {
      "image/png": "[encoded data removed]",
      "text/plain": [
       "<matplotlib.figure.Figure at 0x22425ee3da0>"
      ]
     },
     "metadata": {},
     "output_type": "display_data"
    },
    {
     "data": {
      "image/png": "[encoded data removed]",
      "text/plain": [
       "<matplotlib.figure.Figure at 0x22425f132e8>"
      ]
     },
     "metadata": {},
     "output_type": "display_data"
    },
    {
     "data": {
      "image/png": "[encoded data removed]",
      "text/plain": [
       "<matplotlib.figure.Figure at 0x22425ef6630>"
      ]
     },
     "metadata": {},
     "output_type": "display_data"
    }
   ],
   "source": [
    "i = 1\n",
    "for i in range(10):\n",
    "    plot_image_graph_from_array1(image_list[i], label_list[i])\n"
   ]
  },
  {
   "cell_type": "code",
   "execution_count": 11,
   "metadata": {},
   "outputs": [
    {
     "name": "stdout",
     "output_type": "stream",
     "text": [
      "[68, 88, 53, 49, 31, 40, 89, 29, 9, 34, 62, 20, 52, 90, 11]\n"
     ]
    }
   ],
   "source": [
    "X = im_float_list\n",
    "y = label_list\n",
    "X, y = shuffle(X, y, random_state=0)\n",
    "print(y[0:15])"
   ]
  },
  {
   "cell_type": "code",
   "execution_count": 12,
   "metadata": {
    "scrolled": true
   },
   "outputs": [
    {
     "name": "stdout",
     "output_type": "stream",
     "text": [
      "[[0.00392157 0.00392157 0.00392157 ... 0.00392157 0.00392157 0.00392157]\n",
      " [0.00392157 0.00392157 0.00392157 ... 0.00392157 0.00392157 0.00392157]\n",
      " [0.00392157 0.00392157 0.00392157 ... 0.00392157 0.00392157 0.00392157]\n",
      " ...\n",
      " [0.00392157 0.00392157 0.00392157 ... 0.00392157 0.00392157 0.00392157]\n",
      " [0.00392157 0.00392157 0.00392157 ... 0.00392157 0.00392157 0.00392157]\n",
      " [0.00392157 0.00392157 0.00392157 ... 0.00392157 0.00392157 0.00392157]]\n",
      "(50, 50)\n"
     ]
    }
   ],
   "source": [
    "print(X[0])\n",
    "print(X[0].shape)"
   ]
  },
  {
   "cell_type": "code",
   "execution_count": 13,
   "metadata": {},
   "outputs": [
    {
     "name": "stdout",
     "output_type": "stream",
     "text": [
      "(76516, 50, 50)\n"
     ]
    }
   ],
   "source": [
    "X3 = np.asarray(X)\n",
    "print(X3.shape)"
   ]
  },
  {
   "cell_type": "code",
   "execution_count": 14,
   "metadata": {},
   "outputs": [
    {
     "data": {
      "text/plain": [
       "array([[0.00392157, 0.00392157, 0.00392157, ..., 0.00392157, 0.00392157,\n",
       "        0.00392157],\n",
       "       [0.00392157, 0.00392157, 0.00392157, ..., 0.00392157, 0.00392157,\n",
       "        0.00392157],\n",
       "       [0.00392157, 0.00392157, 0.00392157, ..., 0.00392157, 0.00392157,\n",
       "        0.00392157],\n",
       "       ...,\n",
       "       [0.00392157, 0.00392157, 0.00392157, ..., 0.00392157, 0.00392157,\n",
       "        0.00392157],\n",
       "       [0.00392157, 0.00392157, 0.00392157, ..., 0.00392157, 0.00392157,\n",
       "        0.00392157],\n",
       "       [0.00392157, 0.00392157, 0.00392157, ..., 0.00392157, 0.00392157,\n",
       "        0.00392157]])"
      ]
     },
     "execution_count": 14,
     "metadata": {},
     "output_type": "execute_result"
    }
   ],
   "source": [
    "X3[0]"
   ]
  },
  {
   "cell_type": "code",
   "execution_count": 15,
   "metadata": {},
   "outputs": [
    {
     "name": "stdout",
     "output_type": "stream",
     "text": [
      "train_len: 61212\n"
     ]
    }
   ],
   "source": [
    "train_len = int(len(X3)*.8)\n",
    "print('train_len: ' + str(train_len))"
   ]
  },
  {
   "cell_type": "code",
   "execution_count": 16,
   "metadata": {},
   "outputs": [],
   "source": [
    "train_image, test_image, train_label, test_label = X3[:train_len], X3[train_len:], y[:train_len], y[train_len:]"
   ]
  },
  {
   "cell_type": "code",
   "execution_count": 17,
   "metadata": {},
   "outputs": [
    {
     "name": "stdout",
     "output_type": "stream",
     "text": [
      "train_image.shape: (61212, 50, 50)\n",
      "train_label.shape: 61212\n",
      "test_image.shape: (15304, 50, 50)\n",
      "test_label.shape: 15304\n"
     ]
    }
   ],
   "source": [
    "print('train_image.shape: ' + str(train_image.shape))\n",
    "print('train_label.shape: ' + str(len(train_label)))\n",
    "print('test_image.shape: ' + str(test_image.shape))\n",
    "print('test_label.shape: ' + str(len(test_label)))"
   ]
  },
  {
   "cell_type": "code",
   "execution_count": 18,
   "metadata": {},
   "outputs": [],
   "source": [
    "X_train = train_image[..., tf.newaxis]\n",
    "X_test = test_image[..., tf.newaxis]"
   ]
  },
  {
   "cell_type": "code",
   "execution_count": 19,
   "metadata": {},
   "outputs": [],
   "source": [
    "train_ds = tf.data.Dataset.from_tensor_slices((X_train, train_label)).batch(32)\n",
    "test_ds = tf.data.Dataset.from_tensor_slices((X_test, test_label)).batch(32)"
   ]
  },
  {
   "cell_type": "code",
   "execution_count": 20,
   "metadata": {},
   "outputs": [],
   "source": [
    "tf.keras.backend.set_floatx('float64')\n",
    "class MyModel(Model):\n",
    "  def __init__(self):\n",
    "    super(MyModel, self).__init__()\n",
    "    self.conv1 = Conv2D(50, 3, activation='relu')\n",
    "    self.flatten = Flatten()\n",
    "    self.d1 = Dense(128, activation='relu')\n",
    "    self.d2 = Dense(95, activation='softmax')\n",
    "\n",
    "  def call(self, x):\n",
    "    x = self.conv1(x)\n",
    "    x = self.flatten(x)\n",
    "    x = self.d1(x)\n",
    "    return self.d2(x)\n",
    "\n",
    "# Create an instance of the model\n",
    "model = MyModel()"
   ]
  },
  {
   "cell_type": "code",
   "execution_count": 21,
   "metadata": {},
   "outputs": [],
   "source": [
    "loss_object = tf.keras.losses.SparseCategoricalCrossentropy()\n",
    "optimizer = tf.keras.optimizers.Adam()"
   ]
  },
  {
   "cell_type": "code",
   "execution_count": 22,
   "metadata": {},
   "outputs": [],
   "source": [
    "train_loss = tf.keras.metrics.Mean(name='train_loss')\n",
    "train_accuracy = tf.keras.metrics.SparseCategoricalAccuracy(name='train_accuracy')\n",
    "\n",
    "test_loss = tf.keras.metrics.Mean(name='test_loss')\n",
    "test_accuracy = tf.keras.metrics.SparseCategoricalAccuracy(name='test_accuracy')"
   ]
  },
  {
   "cell_type": "code",
   "execution_count": 23,
   "metadata": {},
   "outputs": [],
   "source": [
    "@tf.function\n",
    "def train_step(images, labels):\n",
    "  with tf.GradientTape() as tape:\n",
    "    predictions = model(images)\n",
    "    loss = loss_object(labels, predictions)\n",
    "  gradients = tape.gradient(loss, model.trainable_variables)\n",
    "  optimizer.apply_gradients(zip(gradients, model.trainable_variables))\n",
    "\n",
    "  train_loss(loss)\n",
    "  train_accuracy(labels, predictions)"
   ]
  },
  {
   "cell_type": "code",
   "execution_count": 24,
   "metadata": {},
   "outputs": [],
   "source": [
    "@tf.function\n",
    "def test_step(images, labels):\n",
    "  predictions = model(images)\n",
    "  t_loss = loss_object(labels, predictions)\n",
    "\n",
    "  test_loss(t_loss)\n",
    "  test_accuracy(labels, predictions)"
   ]
  },
  {
   "cell_type": "code",
   "execution_count": 26,
   "metadata": {},
   "outputs": [
    {
     "name": "stdout",
     "output_type": "stream",
     "text": [
      "Epoch 1, Loss: 4.545048355993898, Accuracy: 0.8740116317062014, Test Loss: 4.545013024563082, Test Accuracy: 0.9474647151071615\n",
      "Epoch 2, Loss: 4.544650426785857, Accuracy: 0.9638632947788016, Test Loss: 4.5448204161976475, Test Accuracy: 0.9474647151071615\n",
      "Epoch 3, Loss: 4.544393670290973, Accuracy: 0.9164869633405215, Test Loss: 4.544587471788761, Test Accuracy: 0.9474647151071615\n",
      "Epoch 4, Loss: 4.5442432395089565, Accuracy: 0.9377246291576815, Test Loss: 4.544345314169228, Test Accuracy: 0.9474647151071615\n",
      "Epoch 5, Loss: 4.544038767348518, Accuracy: 0.9736652943867216, Test Loss: 4.5444159577435395, Test Accuracy: 0.9474647151071615\n"
     ]
    }
   ],
   "source": [
    "EPOCHS = 5\n",
    "\n",
    "for epoch in range(EPOCHS):\n",
    "  # Reset the metrics at the start of the next epoch\n",
    "  train_loss.reset_states()\n",
    "  train_accuracy.reset_states()\n",
    "  test_loss.reset_states()\n",
    "  test_accuracy.reset_states()\n",
    "\n",
    "  for images, labels in train_ds:\n",
    "    train_step(images, labels)\n",
    "\n",
    "  for test_images, test_labels in test_ds:\n",
    "    test_step(test_images, test_labels)\n",
    "\n",
    "  template = 'Epoch {}, Loss: {}, Accuracy: {}, Test Loss: {}, Test Accuracy: {}'\n",
    "  print(template.format(epoch+1,\n",
    "                        train_loss.result(),\n",
    "                        train_accuracy.result()*100,\n",
    "                        test_loss.result(),\n",
    "                        test_accuracy.result()*100))"
   ]
  }
 ],
 "metadata": {
  "kernelspec": {
   "display_name": "Python 3",
   "language": "python",
   "name": "python3"
  },
  "language_info": {
   "codemirror_mode": {
    "name": "ipython",
    "version": 3
   },
   "file_extension": ".py",
   "mimetype": "text/x-python",
   "name": "python",
   "nbconvert_exporter": "python",
   "pygments_lexer": "ipython3",
   "version": "3.6.4"
  },
  "nav_menu": {
   "height": "264px",
   "width": "369px"
  },
  "toc": {
   "navigate_menu": true,
   "number_sections": true,
   "sideBar": true,
   "threshold": 6,
   "toc_cell": false,
   "toc_section_display": "block",
   "toc_window_display": false
  }
 },
 "nbformat": 4,
 "nbformat_minor": 1
}
